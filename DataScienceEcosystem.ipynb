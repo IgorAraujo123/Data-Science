{
 "cells": [
  {
   "cell_type": "markdown",
   "id": "124cfa3f-d73c-45f5-8654-580b5211aefc",
   "metadata": {},
   "source": [
    "# Data Science Tools and Ecosystem"
   ]
  },
  {
   "cell_type": "markdown",
   "id": "65de1f88-e8e4-4fd7-8f35-63e4b820b56f",
   "metadata": {},
   "source": [
    "In this notebook, Data Science Tools and Ecosystem are summarized"
   ]
  },
  {
   "cell_type": "markdown",
   "id": "c89107ac-48d3-4eee-8ee8-bbcbf2d087fa",
   "metadata": {},
   "source": [
    "Some of the popular languages that Data Scientists use are:\n",
    "\n",
    "1. Python\n",
    "2. R\n",
    "3. SQL"
   ]
  },
  {
   "cell_type": "markdown",
   "id": "142eae30-a205-4121-ba1c-68d610a991ed",
   "metadata": {},
   "source": [
    "Some of the commonly used libraries used by Data Scientists include:\n",
    "\n",
    "1. Scientific Computing Libraries\n",
    "2. Visualization Libraries \n",
    "3. High-Level- Machine Learning and Deep Learning Libraries"
   ]
  },
  {
   "cell_type": "markdown",
   "id": "b5b643fe-bac2-43f0-8b37-cb040001fdba",
   "metadata": {},
   "source": [
    "| Data Science Tools |\n",
    "----------------\n",
    "| Jupyter Notebook |\n",
    "| Spark |\n",
    "| MySQL |"
   ]
  },
  {
   "cell_type": "markdown",
   "id": "c52eab43-5b78-4ad0-9af5-c01bc41fd282",
   "metadata": {},
   "source": [
    "### Below are a few examples of evaluating arithmetic expressions in Python"
   ]
  },
  {
   "cell_type": "code",
   "execution_count": 1,
   "id": "b3a75923-564f-4b90-8ac4-2666b10a93e3",
   "metadata": {},
   "outputs": [
    {
     "data": {
      "text/plain": [
       "17"
      ]
     },
     "execution_count": 1,
     "metadata": {},
     "output_type": "execute_result"
    }
   ],
   "source": [
    "(3*4)+5\n",
    "#This a simple arithmetic expression to mutiply then add integers"
   ]
  },
  {
   "cell_type": "code",
   "execution_count": 3,
   "id": "8d25e641-47ea-4f4d-a599-d54b0d85fd49",
   "metadata": {},
   "outputs": [
    {
     "data": {
      "text/plain": [
       "3.3333333333333335"
      ]
     },
     "execution_count": 3,
     "metadata": {},
     "output_type": "execute_result"
    }
   ],
   "source": [
    "200/60\n",
    "#This will convert 200 minutes to hours by diving by 60"
   ]
  },
  {
   "cell_type": "markdown",
   "id": "df4f7ed3-693a-47c8-9922-fedbf5ac3ce1",
   "metadata": {},
   "source": [
    "**Objetivos**\n",
    "+ Programming languages used by data scientists\n",
    "+ Tools used by data scientists\n",
    "+ Librarys and API used by data scientists\n",
    "+ What is data science\n",
    "+ What can data scientists do to help an enterprise and etc.\n"
   ]
  },
  {
   "cell_type": "markdown",
   "id": "0369cd85-a7e9-451a-9f6e-9fd7949a399f",
   "metadata": {},
   "source": [
    "## Author\n",
    "Igor Nunes Araújo dos Reis"
   ]
  }
 ],
 "metadata": {
  "kernelspec": {
   "display_name": "Python 3 (ipykernel)",
   "language": "python",
   "name": "python3"
  },
  "language_info": {
   "codemirror_mode": {
    "name": "ipython",
    "version": 3
   },
   "file_extension": ".py",
   "mimetype": "text/x-python",
   "name": "python",
   "nbconvert_exporter": "python",
   "pygments_lexer": "ipython3",
   "version": "3.12.4"
  }
 },
 "nbformat": 4,
 "nbformat_minor": 5
}
